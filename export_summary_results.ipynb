{
 "cells": [
  {
   "cell_type": "code",
   "execution_count": 2,
   "metadata": {},
   "outputs": [],
   "source": [
    "import pandas as pd\n",
    "import os\n",
    "\n",
    "def make_dir(p):\n",
    "    if not os.path.exists(p):\n",
    "        os.makedirs(p)"
   ]
  },
  {
   "attachments": {},
   "cell_type": "markdown",
   "metadata": {},
   "source": [
    "## 2-hop"
   ]
  },
  {
   "cell_type": "code",
   "execution_count": 3,
   "metadata": {},
   "outputs": [],
   "source": [
    "SOL_DATA_PATH = os.path.join('DCNDP_sols')\n",
    "\n",
    "dcndp_2hop_agg_df = pd.read_csv('DCNDP_sols/DCNDP_NL_D2_2023_06_14_healthAuthority_ID/day2_0/hybrid_rate_0/partition_results.csv')\n",
    "dcndp_2hop_disagg_df = pd.read_csv('DCNDP_sols/DCNDP_NL_D2_2023_06_14_healthAuthority_ID_disagg/day2_0/hybrid_rate_0/partition_results.csv')\n"
   ]
  },
  {
   "cell_type": "code",
   "execution_count": 4,
   "metadata": {},
   "outputs": [],
   "source": [
    "# merge the two dataframes based on healthAuthority_ID,\tpartition,\tc_count, add agg and disagg suffixes\n",
    "dcndp_2hop_df = pd.merge(dcndp_2hop_agg_df, dcndp_2hop_disagg_df, on=['healthAuthority_ID', 'partition', 'c_count'], suffixes=('_agg', '_disagg'))\n",
    "\n",
    "dcndp_2hop_df.columns\n",
    "\n",
    "\n",
    "cols_to_keep = ['healthAuthority_ID', 'partition', 'c_count', 'component_size_agg','component_edges_agg', 'budget_agg',\\\n",
    "                'pre_optimization_short_pairs_agg', 'num_simplicials_agg', 'm_status_agg','m_obj_agg', 'm_MIPGap_agg', \\\n",
    "                'm_runtime_agg','m_status_disagg', 'm_obj_disagg', 'm_MIPGap_disagg', 'm_runtime_disagg']\n",
    "\n",
    "dcndp_2hop_df = dcndp_2hop_df[cols_to_keep]\n",
    "\n",
    "dcndp_2hop_df['density'] = 100 * (dcndp_2hop_df['component_edges_agg']/((dcndp_2hop_df['component_size_agg']*(dcndp_2hop_df['component_size_agg'] - 1))/2))\n",
    "\n",
    "new_col_names = ['healthAuthority_ID', 'partition', 'c_count', 'component_size', 'component_edges', 'budget',\\\n",
    "                 'original_objective', 'num_simplicials', 'm_status_agg', 'm_obj_agg', 'm_MIPGap_agg', \\\n",
    "                'm_runtime_agg', 'm_status_disagg', 'm_obj_disagg', 'm_MIPGap_disagg', 'm_runtime_disagg', 'density']\n",
    "\n",
    "dcndp_2hop_df.columns = new_col_names\n",
    "\n",
    "dcndp_2hop_df['m_MIPGap_agg'] = 100 * dcndp_2hop_df['m_MIPGap_agg']\n",
    "dcndp_2hop_df['m_MIPGap_disagg'] = 100 * dcndp_2hop_df['m_MIPGap_disagg']\n",
    "\n",
    "dcndp_2hop_df['perc_reduction_obj_agg'] = 100 * (dcndp_2hop_df['original_objective'] - dcndp_2hop_df['m_obj_agg'])/dcndp_2hop_df['original_objective']\n",
    "dcndp_2hop_df['perc_reduction_obj_disagg'] = 100 * (dcndp_2hop_df['original_objective'] - dcndp_2hop_df['m_obj_disagg'])/dcndp_2hop_df['original_objective']"
   ]
  },
  {
   "cell_type": "code",
   "execution_count": 5,
   "metadata": {},
   "outputs": [],
   "source": [
    "summary_results_path = os.path.join(\"summary_results\")\n",
    "make_dir(summary_results_path)\n",
    "\n",
    "dcndp_2hop_df.to_csv(os.path.join(summary_results_path, 'dcndp_2hop_summary_results.csv'), index=False)"
   ]
  },
  {
   "cell_type": "code",
   "execution_count": 6,
   "metadata": {},
   "outputs": [],
   "source": [
    "#select where density is greater than 0.4\n",
    "#dcndp_2hop_df = dcndp_2hop_df[dcndp_2hop_df['density'] > 0.5]\n"
   ]
  },
  {
   "attachments": {},
   "cell_type": "markdown",
   "metadata": {},
   "source": [
    "## 1-hop"
   ]
  },
  {
   "cell_type": "code",
   "execution_count": 8,
   "metadata": {},
   "outputs": [],
   "source": [
    "dcndp_1hop_df = pd.read_csv('DCNDP_sols/DCNDP_1hop_NL_D2_2023_06_28_healthAuthority_ID/day2_0/hybrid_rate_0/partition_results.csv')\n",
    "\n",
    "\n",
    "cols_to_keep = ['healthAuthority_ID', 'partition', 'c_count', 'component_size',\\\n",
    "                'component_edges', 'budget', 'pre_optimization_short_pairs', \\\n",
    "                    'm_status', 'm_obj', 'm_MIPGap', 'm_runtime']\n",
    "\n",
    "dcndp_1hop_df = dcndp_1hop_df[cols_to_keep]\n",
    "\n",
    "new_col_names = ['healthAuthority_ID', 'partition', 'c_count', 'component_size',\\\n",
    "                'component_edges', 'budget', 'original_objective', \\\n",
    "                    'm_status', 'm_obj', 'm_MIPGap', 'm_runtime']\n",
    "\n",
    "dcndp_1hop_df.columns = new_col_names\n",
    "\n",
    "dcndp_1hop_df['density'] = 100 * (dcndp_1hop_df['component_edges']/((dcndp_1hop_df['component_size']*(dcndp_1hop_df['component_size'] - 1))/2))\n",
    "dcndp_1hop_df['m_MIPGap'] = 100 * dcndp_1hop_df['m_MIPGap']\n",
    "\n",
    "dcndp_1hop_df['perc_reduction_obj'] = 100 * (dcndp_1hop_df['original_objective'] - dcndp_1hop_df['m_obj'])/dcndp_1hop_df['original_objective']\n",
    "\n",
    "dcndp_1hop_df.to_csv(os.path.join(summary_results_path, 'dcndp_1hop_summary_results.csv'), index=False)"
   ]
  },
  {
   "cell_type": "code",
   "execution_count": null,
   "metadata": {},
   "outputs": [],
   "source": []
  }
 ],
 "metadata": {
  "kernelspec": {
   "display_name": "dcndp",
   "language": "python",
   "name": "python3"
  },
  "language_info": {
   "codemirror_mode": {
    "name": "ipython",
    "version": 3
   },
   "file_extension": ".py",
   "mimetype": "text/x-python",
   "name": "python",
   "nbconvert_exporter": "python",
   "pygments_lexer": "ipython3",
   "version": "3.10.11"
  },
  "orig_nbformat": 4
 },
 "nbformat": 4,
 "nbformat_minor": 2
}
