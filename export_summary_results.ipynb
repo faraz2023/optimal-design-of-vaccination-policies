{
 "cells": [
  {
   "cell_type": "code",
   "execution_count": 2,
   "metadata": {},
   "outputs": [],
   "source": [
    "import pandas as pd\n",
    "import os\n",
    "\n",
    "def make_dir(p):\n",
    "    if not os.path.exists(p):\n",
    "        os.makedirs(p)"
   ]
  },
  {
   "attachments": {},
   "cell_type": "markdown",
   "metadata": {},
   "source": [
    "## 2-hop"
   ]
  },
  {
   "cell_type": "code",
   "execution_count": 3,
   "metadata": {},
   "outputs": [],
   "source": [
    "SOL_DATA_PATH = os.path.join('DCNDP_sols')\n",
    "\n",
    "dcndp_2hop_agg_df = pd.read_csv('DCNDP_sols/DCNDP_NL_D2_2023_06_14_healthAuthority_ID/day2_0/hybrid_rate_0/partition_results.csv')\n",
    "dcndp_2hop_disagg_df = pd.read_csv('DCNDP_sols/DCNDP_NL_D2_2023_06_14_healthAuthority_ID_disagg/day2_0/hybrid_rate_0/partition_results.csv')\n"
   ]
  },
  {
   "cell_type": "code",
   "execution_count": 4,
   "metadata": {},
   "outputs": [],
   "source": [
    "# merge the two dataframes based on healthAuthority_ID,\tpartition,\tc_count, add agg and disagg suffixes\n",
    "dcndp_2hop_df = pd.merge(dcndp_2hop_agg_df, dcndp_2hop_disagg_df, on=['healthAuthority_ID', 'partition', 'c_count'], suffixes=('_agg', '_disagg'))\n",
    "\n",
    "dcndp_2hop_df.columns\n",
    "\n",
    "\n",
    "cols_to_keep = ['healthAuthority_ID', 'partition', 'c_count', 'component_size_agg','component_edges_agg', 'budget_agg',\\\n",
    "                'pre_optimization_short_pairs_agg', 'num_simplicials_agg', 'm_status_agg','m_obj_agg', 'm_MIPGap_agg', \\\n",
    "                'm_runtime_agg','m_status_disagg', 'm_obj_disagg', 'm_MIPGap_disagg', 'm_runtime_disagg']\n",
    "\n",
    "dcndp_2hop_df = dcndp_2hop_df[cols_to_keep]\n",
    "\n",
    "dcndp_2hop_df['density'] = 100 * (dcndp_2hop_df['component_edges_agg']/((dcndp_2hop_df['component_size_agg']*(dcndp_2hop_df['component_size_agg'] - 1))/2))\n",
    "\n",
    "new_col_names = ['healthAuthority_ID', 'partition', 'c_count', 'component_size', 'component_edges', 'budget',\\\n",
    "                 'original_objective', 'num_simplicials', 'm_status_agg', 'm_obj_agg', 'm_MIPGap_agg', \\\n",
    "                'm_runtime_agg', 'm_status_disagg', 'm_obj_disagg', 'm_MIPGap_disagg', 'm_runtime_disagg', 'density']\n",
    "\n",
    "dcndp_2hop_df.columns = new_col_names\n",
    "\n",
    "dcndp_2hop_df['m_MIPGap_agg'] = 100 * dcndp_2hop_df['m_MIPGap_agg']\n",
    "dcndp_2hop_df['m_MIPGap_disagg'] = 100 * dcndp_2hop_df['m_MIPGap_disagg']\n",
    "\n",
    "dcndp_2hop_df['perc_reduction_obj_agg'] = 100 * (dcndp_2hop_df['original_objective'] - dcndp_2hop_df['m_obj_agg'])/dcndp_2hop_df['original_objective']\n",
    "dcndp_2hop_df['perc_reduction_obj_disagg'] = 100 * (dcndp_2hop_df['original_objective'] - dcndp_2hop_df['m_obj_disagg'])/dcndp_2hop_df['original_objective']"
   ]
  },
  {
   "cell_type": "code",
   "execution_count": 5,
   "metadata": {},
   "outputs": [],
   "source": [
    "summary_results_path = os.path.join(\"summary_results\")\n",
    "make_dir(summary_results_path)\n",
    "\n",
    "dcndp_2hop_df.to_csv(os.path.join(summary_results_path, 'dcndp_2hop_summary_results.csv'), index=False)"
   ]
  },
  {
   "cell_type": "code",
   "execution_count": 6,
   "metadata": {},
   "outputs": [],
   "source": [
    "#select where density is greater than 0.4\n",
    "#dcndp_2hop_df = dcndp_2hop_df[dcndp_2hop_df['density'] > 0.5]\n"
   ]
  },
  {
   "attachments": {},
   "cell_type": "markdown",
   "metadata": {},
   "source": [
    "## 1-hop"
   ]
  },
  {
   "cell_type": "code",
   "execution_count": 8,
   "metadata": {},
   "outputs": [],
   "source": [
    "dcndp_1hop_df = pd.read_csv('DCNDP_sols/DCNDP_1hop_NL_D2_2023_06_28_healthAuthority_ID/day2_0/hybrid_rate_0/partition_results.csv')\n",
    "\n",
    "\n",
    "cols_to_keep = ['healthAuthority_ID', 'partition', 'c_count', 'component_size',\\\n",
    "                'component_edges', 'budget', 'pre_optimization_short_pairs', \\\n",
    "                    'm_status', 'm_obj', 'm_MIPGap', 'm_runtime']\n",
    "\n",
    "dcndp_1hop_df = dcndp_1hop_df[cols_to_keep]\n",
    "\n",
    "new_col_names = ['healthAuthority_ID', 'partition', 'c_count', 'component_size',\\\n",
    "                'component_edges', 'budget', 'original_objective', \\\n",
    "                    'm_status', 'm_obj', 'm_MIPGap', 'm_runtime']\n",
    "\n",
    "dcndp_1hop_df.columns = new_col_names\n",
    "\n",
    "dcndp_1hop_df['density'] = 100 * (dcndp_1hop_df['component_edges']/((dcndp_1hop_df['component_size']*(dcndp_1hop_df['component_size'] - 1))/2))\n",
    "dcndp_1hop_df['m_MIPGap'] = 100 * dcndp_1hop_df['m_MIPGap']\n",
    "\n",
    "dcndp_1hop_df['perc_reduction_obj'] = 100 * (dcndp_1hop_df['original_objective'] - dcndp_1hop_df['m_obj'])/dcndp_1hop_df['original_objective']\n",
    "\n",
    "dcndp_1hop_df.to_csv(os.path.join(summary_results_path, 'dcndp_1hop_summary_results.csv'), index=False)"
   ]
  },
  {
   "cell_type": "code",
   "execution_count": null,
   "metadata": {},
   "outputs": [],
   "source": []
  },
  {
   "cell_type": "markdown",
   "metadata": {},
   "source": [
    "## morPOP network statistics"
   ]
  },
  {
   "cell_type": "code",
   "execution_count": 1,
   "metadata": {},
   "outputs": [],
   "source": [
    "import pandas as pd"
   ]
  },
  {
   "cell_type": "code",
   "execution_count": 17,
   "metadata": {},
   "outputs": [
    {
     "name": "stdout",
     "output_type": "stream",
     "text": [
      "Index(['id', 'age', 'schoolLevel', 'ageRange', 'ageGroup', 'hazardRatio',\n",
      "       'transmissionRate', 'commuter', 'probGetInfected', 'primcareWorker',\n",
      "       'hospitalWorker', 'isPrimCarePatient', 'household_ID',\n",
      "       'household_number_members', 'household_type', 'workplace_ID',\n",
      "       'school_ID', 'healthAuthority_ID', 'busRoute_ID', 'workType',\n",
      "       'homeCommunity', 'workCommunity', 'subwayRoute_ID',\n",
      "       'workingHealthcareCenter'],\n",
      "      dtype='object')\n"
     ]
    },
    {
     "data": {
      "text/html": [
       "<div>\n",
       "<style scoped>\n",
       "    .dataframe tbody tr th:only-of-type {\n",
       "        vertical-align: middle;\n",
       "    }\n",
       "\n",
       "    .dataframe tbody tr th {\n",
       "        vertical-align: top;\n",
       "    }\n",
       "\n",
       "    .dataframe thead th {\n",
       "        text-align: right;\n",
       "    }\n",
       "</style>\n",
       "<table border=\"1\" class=\"dataframe\">\n",
       "  <thead>\n",
       "    <tr style=\"text-align: right;\">\n",
       "      <th></th>\n",
       "      <th>id</th>\n",
       "      <th>age</th>\n",
       "      <th>schoolLevel</th>\n",
       "      <th>ageRange</th>\n",
       "      <th>ageGroup</th>\n",
       "      <th>hazardRatio</th>\n",
       "      <th>transmissionRate</th>\n",
       "      <th>commuter</th>\n",
       "      <th>probGetInfected</th>\n",
       "      <th>primcareWorker</th>\n",
       "      <th>...</th>\n",
       "      <th>household_type</th>\n",
       "      <th>workplace_ID</th>\n",
       "      <th>school_ID</th>\n",
       "      <th>healthAuthority_ID</th>\n",
       "      <th>busRoute_ID</th>\n",
       "      <th>workType</th>\n",
       "      <th>homeCommunity</th>\n",
       "      <th>workCommunity</th>\n",
       "      <th>subwayRoute_ID</th>\n",
       "      <th>workingHealthcareCenter</th>\n",
       "    </tr>\n",
       "  </thead>\n",
       "  <tbody>\n",
       "    <tr>\n",
       "      <th>0</th>\n",
       "      <td>0</td>\n",
       "      <td>NaN</td>\n",
       "      <td>NaN</td>\n",
       "      <td>NaN</td>\n",
       "      <td>NaN</td>\n",
       "      <td>NaN</td>\n",
       "      <td>NaN</td>\n",
       "      <td>NaN</td>\n",
       "      <td>NaN</td>\n",
       "      <td>NaN</td>\n",
       "      <td>...</td>\n",
       "      <td>NaN</td>\n",
       "      <td>NaN</td>\n",
       "      <td>NaN</td>\n",
       "      <td>NaN</td>\n",
       "      <td>NaN</td>\n",
       "      <td>NaN</td>\n",
       "      <td>NaN</td>\n",
       "      <td>NaN</td>\n",
       "      <td>NaN</td>\n",
       "      <td>NaN</td>\n",
       "    </tr>\n",
       "    <tr>\n",
       "      <th>1</th>\n",
       "      <td>1</td>\n",
       "      <td>83.0</td>\n",
       "      <td>-1.0</td>\n",
       "      <td>16.0</td>\n",
       "      <td>3.0</td>\n",
       "      <td>51.386039</td>\n",
       "      <td>0.0</td>\n",
       "      <td>0.0</td>\n",
       "      <td>0.0</td>\n",
       "      <td>0.0</td>\n",
       "      <td>...</td>\n",
       "      <td>1.0</td>\n",
       "      <td>-1.0</td>\n",
       "      <td>-1.0</td>\n",
       "      <td>0.0</td>\n",
       "      <td>-1.0</td>\n",
       "      <td>-1.0</td>\n",
       "      <td>1.0</td>\n",
       "      <td>-1.0</td>\n",
       "      <td>-1.0</td>\n",
       "      <td>-1.0</td>\n",
       "    </tr>\n",
       "    <tr>\n",
       "      <th>2</th>\n",
       "      <td>2</td>\n",
       "      <td>61.0</td>\n",
       "      <td>-1.0</td>\n",
       "      <td>12.0</td>\n",
       "      <td>2.0</td>\n",
       "      <td>5.593425</td>\n",
       "      <td>0.0</td>\n",
       "      <td>0.0</td>\n",
       "      <td>0.0</td>\n",
       "      <td>0.0</td>\n",
       "      <td>...</td>\n",
       "      <td>1.0</td>\n",
       "      <td>-1.0</td>\n",
       "      <td>-1.0</td>\n",
       "      <td>0.0</td>\n",
       "      <td>-1.0</td>\n",
       "      <td>-1.0</td>\n",
       "      <td>1.0</td>\n",
       "      <td>1.0</td>\n",
       "      <td>-1.0</td>\n",
       "      <td>-1.0</td>\n",
       "    </tr>\n",
       "    <tr>\n",
       "      <th>3</th>\n",
       "      <td>3</td>\n",
       "      <td>75.0</td>\n",
       "      <td>-1.0</td>\n",
       "      <td>15.0</td>\n",
       "      <td>3.0</td>\n",
       "      <td>8.733300</td>\n",
       "      <td>0.0</td>\n",
       "      <td>0.0</td>\n",
       "      <td>0.0</td>\n",
       "      <td>0.0</td>\n",
       "      <td>...</td>\n",
       "      <td>1.0</td>\n",
       "      <td>-1.0</td>\n",
       "      <td>-1.0</td>\n",
       "      <td>0.0</td>\n",
       "      <td>-1.0</td>\n",
       "      <td>-1.0</td>\n",
       "      <td>1.0</td>\n",
       "      <td>-1.0</td>\n",
       "      <td>-1.0</td>\n",
       "      <td>-1.0</td>\n",
       "    </tr>\n",
       "    <tr>\n",
       "      <th>4</th>\n",
       "      <td>4</td>\n",
       "      <td>48.0</td>\n",
       "      <td>-1.0</td>\n",
       "      <td>9.0</td>\n",
       "      <td>2.0</td>\n",
       "      <td>1.094500</td>\n",
       "      <td>0.0</td>\n",
       "      <td>0.0</td>\n",
       "      <td>0.0</td>\n",
       "      <td>0.0</td>\n",
       "      <td>...</td>\n",
       "      <td>1.0</td>\n",
       "      <td>-1.0</td>\n",
       "      <td>-1.0</td>\n",
       "      <td>0.0</td>\n",
       "      <td>-1.0</td>\n",
       "      <td>-1.0</td>\n",
       "      <td>1.0</td>\n",
       "      <td>1.0</td>\n",
       "      <td>-1.0</td>\n",
       "      <td>-1.0</td>\n",
       "    </tr>\n",
       "  </tbody>\n",
       "</table>\n",
       "<p>5 rows × 24 columns</p>\n",
       "</div>"
      ],
      "text/plain": [
       "   id   age  schoolLevel  ageRange  ageGroup  hazardRatio  transmissionRate  \\\n",
       "0   0   NaN          NaN       NaN       NaN          NaN               NaN   \n",
       "1   1  83.0         -1.0      16.0       3.0    51.386039               0.0   \n",
       "2   2  61.0         -1.0      12.0       2.0     5.593425               0.0   \n",
       "3   3  75.0         -1.0      15.0       3.0     8.733300               0.0   \n",
       "4   4  48.0         -1.0       9.0       2.0     1.094500               0.0   \n",
       "\n",
       "   commuter  probGetInfected  primcareWorker  ...  household_type  \\\n",
       "0       NaN              NaN             NaN  ...             NaN   \n",
       "1       0.0              0.0             0.0  ...             1.0   \n",
       "2       0.0              0.0             0.0  ...             1.0   \n",
       "3       0.0              0.0             0.0  ...             1.0   \n",
       "4       0.0              0.0             0.0  ...             1.0   \n",
       "\n",
       "   workplace_ID  school_ID  healthAuthority_ID  busRoute_ID  workType  \\\n",
       "0           NaN        NaN                 NaN          NaN       NaN   \n",
       "1          -1.0       -1.0                 0.0         -1.0      -1.0   \n",
       "2          -1.0       -1.0                 0.0         -1.0      -1.0   \n",
       "3          -1.0       -1.0                 0.0         -1.0      -1.0   \n",
       "4          -1.0       -1.0                 0.0         -1.0      -1.0   \n",
       "\n",
       "   homeCommunity  workCommunity  subwayRoute_ID  workingHealthcareCenter  \n",
       "0            NaN            NaN             NaN                      NaN  \n",
       "1            1.0           -1.0            -1.0                     -1.0  \n",
       "2            1.0            1.0            -1.0                     -1.0  \n",
       "3            1.0           -1.0            -1.0                     -1.0  \n",
       "4            1.0            1.0            -1.0                     -1.0  \n",
       "\n",
       "[5 rows x 24 columns]"
      ]
     },
     "execution_count": 17,
     "metadata": {},
     "output_type": "execute_result"
    }
   ],
   "source": [
    "df = pd.read_csv('DCNDP_Datasets/NL_Day2/day2_0.csv')\n",
    "\n",
    "print(df.columns)\n",
    "df.head()\n"
   ]
  },
  {
   "cell_type": "code",
   "execution_count": 37,
   "metadata": {},
   "outputs": [
    {
     "data": {
      "text/plain": [
       "-1.0      210900\n",
       " 89.0     119015\n",
       " 186.0     21378\n",
       " 90.0      13395\n",
       " 205.0     13200\n",
       "           ...  \n",
       " 183.0         8\n",
       " 145.0         7\n",
       " 115.0         7\n",
       " 9.0           6\n",
       " 17.0          5\n",
       "Name: workCommunity, Length: 268, dtype: int64"
      ]
     },
     "execution_count": 37,
     "metadata": {},
     "output_type": "execute_result"
    }
   ],
   "source": [
    "df['workCommunity'].value_counts()"
   ]
  },
  {
   "cell_type": "code",
   "execution_count": 6,
   "metadata": {},
   "outputs": [],
   "source": [
    "continuous_features = ['age']\n",
    "categorical_features = ['schoolLevel', 'commuter', 'primcareWorker',\n",
    " 'hospitalWorker', 'isPrimCarePatient', 'household_number_members', 'household_type', 'workType']\n",
    "\n",
    "df_selceted = df[continuous_features + categorical_features]"
   ]
  },
  {
   "cell_type": "code",
   "execution_count": 7,
   "metadata": {},
   "outputs": [
    {
     "data": {
      "text/html": [
       "<div>\n",
       "<style scoped>\n",
       "    .dataframe tbody tr th:only-of-type {\n",
       "        vertical-align: middle;\n",
       "    }\n",
       "\n",
       "    .dataframe tbody tr th {\n",
       "        vertical-align: top;\n",
       "    }\n",
       "\n",
       "    .dataframe thead th {\n",
       "        text-align: right;\n",
       "    }\n",
       "</style>\n",
       "<table border=\"1\" class=\"dataframe\">\n",
       "  <thead>\n",
       "    <tr style=\"text-align: right;\">\n",
       "      <th></th>\n",
       "      <th>age</th>\n",
       "      <th>schoolLevel</th>\n",
       "      <th>commuter</th>\n",
       "      <th>primcareWorker</th>\n",
       "      <th>hospitalWorker</th>\n",
       "      <th>isPrimCarePatient</th>\n",
       "      <th>household_number_members</th>\n",
       "      <th>household_type</th>\n",
       "      <th>workType</th>\n",
       "    </tr>\n",
       "  </thead>\n",
       "  <tbody>\n",
       "    <tr>\n",
       "      <th>count</th>\n",
       "      <td>507554.000000</td>\n",
       "      <td>507554.000000</td>\n",
       "      <td>507554.000000</td>\n",
       "      <td>507554.000000</td>\n",
       "      <td>507554.000000</td>\n",
       "      <td>507554.0</td>\n",
       "      <td>507554.000000</td>\n",
       "      <td>507554.000000</td>\n",
       "      <td>507554.000000</td>\n",
       "    </tr>\n",
       "    <tr>\n",
       "      <th>mean</th>\n",
       "      <td>43.659965</td>\n",
       "      <td>-0.702485</td>\n",
       "      <td>0.269522</td>\n",
       "      <td>0.001255</td>\n",
       "      <td>0.017297</td>\n",
       "      <td>0.0</td>\n",
       "      <td>2.866107</td>\n",
       "      <td>1.567884</td>\n",
       "      <td>7.730541</td>\n",
       "    </tr>\n",
       "    <tr>\n",
       "      <th>std</th>\n",
       "      <td>22.795650</td>\n",
       "      <td>0.780062</td>\n",
       "      <td>0.443712</td>\n",
       "      <td>0.035404</td>\n",
       "      <td>0.130375</td>\n",
       "      <td>0.0</td>\n",
       "      <td>1.172948</td>\n",
       "      <td>0.662591</td>\n",
       "      <td>9.108770</td>\n",
       "    </tr>\n",
       "    <tr>\n",
       "      <th>min</th>\n",
       "      <td>0.000000</td>\n",
       "      <td>-1.000000</td>\n",
       "      <td>0.000000</td>\n",
       "      <td>0.000000</td>\n",
       "      <td>0.000000</td>\n",
       "      <td>0.0</td>\n",
       "      <td>-1.000000</td>\n",
       "      <td>-1.000000</td>\n",
       "      <td>-1.000000</td>\n",
       "    </tr>\n",
       "    <tr>\n",
       "      <th>25%</th>\n",
       "      <td>25.000000</td>\n",
       "      <td>-1.000000</td>\n",
       "      <td>0.000000</td>\n",
       "      <td>0.000000</td>\n",
       "      <td>0.000000</td>\n",
       "      <td>0.0</td>\n",
       "      <td>2.000000</td>\n",
       "      <td>1.000000</td>\n",
       "      <td>-1.000000</td>\n",
       "    </tr>\n",
       "    <tr>\n",
       "      <th>50%</th>\n",
       "      <td>46.000000</td>\n",
       "      <td>-1.000000</td>\n",
       "      <td>0.000000</td>\n",
       "      <td>0.000000</td>\n",
       "      <td>0.000000</td>\n",
       "      <td>0.0</td>\n",
       "      <td>3.000000</td>\n",
       "      <td>2.000000</td>\n",
       "      <td>5.000000</td>\n",
       "    </tr>\n",
       "    <tr>\n",
       "      <th>75%</th>\n",
       "      <td>61.000000</td>\n",
       "      <td>-1.000000</td>\n",
       "      <td>1.000000</td>\n",
       "      <td>0.000000</td>\n",
       "      <td>0.000000</td>\n",
       "      <td>0.0</td>\n",
       "      <td>4.000000</td>\n",
       "      <td>2.000000</td>\n",
       "      <td>17.000000</td>\n",
       "    </tr>\n",
       "    <tr>\n",
       "      <th>max</th>\n",
       "      <td>100.000000</td>\n",
       "      <td>2.000000</td>\n",
       "      <td>1.000000</td>\n",
       "      <td>1.000000</td>\n",
       "      <td>1.000000</td>\n",
       "      <td>0.0</td>\n",
       "      <td>5.000000</td>\n",
       "      <td>2.000000</td>\n",
       "      <td>23.000000</td>\n",
       "    </tr>\n",
       "  </tbody>\n",
       "</table>\n",
       "</div>"
      ],
      "text/plain": [
       "                 age    schoolLevel       commuter  primcareWorker  \\\n",
       "count  507554.000000  507554.000000  507554.000000   507554.000000   \n",
       "mean       43.659965      -0.702485       0.269522        0.001255   \n",
       "std        22.795650       0.780062       0.443712        0.035404   \n",
       "min         0.000000      -1.000000       0.000000        0.000000   \n",
       "25%        25.000000      -1.000000       0.000000        0.000000   \n",
       "50%        46.000000      -1.000000       0.000000        0.000000   \n",
       "75%        61.000000      -1.000000       1.000000        0.000000   \n",
       "max       100.000000       2.000000       1.000000        1.000000   \n",
       "\n",
       "       hospitalWorker  isPrimCarePatient  household_number_members  \\\n",
       "count   507554.000000           507554.0             507554.000000   \n",
       "mean         0.017297                0.0                  2.866107   \n",
       "std          0.130375                0.0                  1.172948   \n",
       "min          0.000000                0.0                 -1.000000   \n",
       "25%          0.000000                0.0                  2.000000   \n",
       "50%          0.000000                0.0                  3.000000   \n",
       "75%          0.000000                0.0                  4.000000   \n",
       "max          1.000000                0.0                  5.000000   \n",
       "\n",
       "       household_type       workType  \n",
       "count   507554.000000  507554.000000  \n",
       "mean         1.567884       7.730541  \n",
       "std          0.662591       9.108770  \n",
       "min         -1.000000      -1.000000  \n",
       "25%          1.000000      -1.000000  \n",
       "50%          2.000000       5.000000  \n",
       "75%          2.000000      17.000000  \n",
       "max          2.000000      23.000000  "
      ]
     },
     "execution_count": 7,
     "metadata": {},
     "output_type": "execute_result"
    }
   ],
   "source": [
    "df_selceted.describe()\n"
   ]
  },
  {
   "cell_type": "code",
   "execution_count": 26,
   "metadata": {},
   "outputs": [
    {
     "data": {
      "text/plain": [
       "count    507553.000000\n",
       "mean          2.866114\n",
       "std           1.172937\n",
       "min           1.000000\n",
       "25%           2.000000\n",
       "50%           3.000000\n",
       "75%           4.000000\n",
       "max           5.000000\n",
       "Name: household_number_members, dtype: float64"
      ]
     },
     "execution_count": 26,
     "metadata": {},
     "output_type": "execute_result"
    }
   ],
   "source": [
    "# select coulmn df_selceted['household_number_members'] where value is not -1\n",
    "a = df_selceted['household_number_members'][df_selceted['household_number_members'] != -1]\n",
    "\n",
    "a.describe()"
   ]
  },
  {
   "cell_type": "code",
   "execution_count": 30,
   "metadata": {},
   "outputs": [
    {
     "data": {
      "text/plain": [
       " 2.0    177330\n",
       " 4.0    113120\n",
       " 3.0    112871\n",
       " 1.0     53052\n",
       " 5.0     51180\n",
       "-1.0         1\n",
       "Name: household_number_members, dtype: int64"
      ]
     },
     "execution_count": 30,
     "metadata": {},
     "output_type": "execute_result"
    }
   ],
   "source": [
    "df_selceted['household_number_members'].value_counts()"
   ]
  },
  {
   "cell_type": "code",
   "execution_count": 38,
   "metadata": {},
   "outputs": [
    {
     "name": "stdout",
     "output_type": "stream",
     "text": [
      "100988\n"
     ]
    }
   ],
   "source": [
    "import os\n",
    "\n",
    "# Initializing the sol_array\n",
    "sol_array = []\n",
    "\n",
    "data_directory = os.path.join(\"DCNDP_sols/DCNDP_NL_D2_2023_06_14_healthAuthority_ID/day2_0/hybrid_rate_0/healthAuthority_ID\")\n",
    "# Assuming you have a variable called data_directory which holds the path to your main directory\n",
    "for dir_name in os.listdir(data_directory):\n",
    "    # Constructing the full directory path\n",
    "    dir_path = os.path.join(data_directory, dir_name)\n",
    "    \n",
    "    # Checking if it's a directory\n",
    "    if os.path.isdir(dir_path):\n",
    "        # Constructing the path to the sol.txt file inside the directory\n",
    "        sol_file_path = os.path.join(dir_path, 'overall_sol.txt')\n",
    "        \n",
    "        # Checking if sol.txt exists\n",
    "        if os.path.exists(sol_file_path):\n",
    "            with open(sol_file_path, 'r') as file:\n",
    "                # Reading numbers from the file and appending them to the sol_array\n",
    "                for line in file:\n",
    "                    number = float(line.strip())  # Assuming they are floating point numbers\n",
    "                    sol_array.append(number)\n",
    "\n",
    "# Printing the sol_array\n",
    "print(len(sol_array))\n"
   ]
  },
  {
   "cell_type": "code",
   "execution_count": 45,
   "metadata": {},
   "outputs": [
    {
     "name": "stdout",
     "output_type": "stream",
     "text": [
      "number of healthcare workers, patients, and people over 80:  27299\n",
      "Number of healthcare workers, patients, and people over 80 in sol_array:  1512\n"
     ]
    }
   ],
   "source": [
    "#From df, select those very hospitalWorker=1, primcareWorker=1, isPrimCarePatient=1,\n",
    "# age > 80\n",
    "df_healthcare = df[(df['hospitalWorker'] == 1) | (df['primcareWorker'] == 1) | (df['isPrimCarePatient'] == 1) | (df['age'] > 80)]\n",
    "df_healthcare.shape\n",
    "healthcare_ids = df_healthcare['id']\n",
    "\n",
    "print(\"number of healthcare workers, patients, and people over 80: \", len(healthcare_ids))\n",
    "#check how many of sol_arrya in healthcare_ids\n",
    "count = 0\n",
    "for i in sol_array:\n",
    "    if i in healthcare_ids:\n",
    "        count += 1\n",
    "print(\"Number of healthcare workers, patients, and people over 80 in sol_array: \", count)"
   ]
  },
  {
   "cell_type": "code",
   "execution_count": 50,
   "metadata": {},
   "outputs": [],
   "source": [
    "\n",
    "df_healthcare = df[(df['hospitalWorker'] == 1) | (df['primcareWorker'] == 1) | (df['isPrimCarePatient'] == 1)]\n",
    "df_age = df[df['age'] > 80]\n",
    "\n",
    "healthcare_ids = df_healthcare['id'].tolist()\n",
    "age_ids = df_age['id'].tolist()"
   ]
  },
  {
   "cell_type": "code",
   "execution_count": 52,
   "metadata": {},
   "outputs": [],
   "source": [
    "import networkx as nx\n",
    "G = nx.read_edgelist('DCNDP_Datasets/NL_Day2/day2_0.el', nodetype=int)\n",
    "\n",
    "G_healthcare = G.subgraph(healthcare_ids)\n",
    "G_age = G.subgraph(age_ids)\n",
    "\n",
    "G_realistic =  G.subgraph(healthcare_ids + age_ids)"
   ]
  },
  {
   "cell_type": "code",
   "execution_count": 55,
   "metadata": {},
   "outputs": [
    {
     "name": "stdout",
     "output_type": "stream",
     "text": [
      "507555 3296180 2.559031020218756e-05 6.494232152180552\n",
      "9416 145492 0.00328233070476756 15.451571792693288\n",
      "17883 4298 2.6880660742401697e-05 0.24033998769781356\n",
      "27299 151029 0.000405333757361645 5.5324004542290925\n"
     ]
    }
   ],
   "source": [
    "for _g in [G, G_healthcare, G_age, G_realistic]:\n",
    "    print(_g.number_of_nodes(), _g.number_of_edges(), nx.density(_g), _g.number_of_edges()/_g.number_of_nodes())"
   ]
  },
  {
   "cell_type": "code",
   "execution_count": 56,
   "metadata": {},
   "outputs": [
    {
     "data": {
      "text/plain": [
       "5.37853040557181"
      ]
     },
     "execution_count": 56,
     "metadata": {},
     "output_type": "execute_result"
    }
   ],
   "source": [
    "27299/507555 *100"
   ]
  },
  {
   "cell_type": "code",
   "execution_count": 88,
   "metadata": {},
   "outputs": [
    {
     "data": {
      "text/plain": [
       "list"
      ]
     },
     "execution_count": 88,
     "metadata": {},
     "output_type": "execute_result"
    }
   ],
   "source": [
    "# read json file\n",
    "import json\n",
    "import pickle\n",
    "with open('DCNDP_manu_results/healthAuthority_ID/2-hop DCNDP - agg constraints/HA_exps.json') as json_file:\n",
    "    regional_data = json.load(json_file)\n",
    "\n",
    "# read pickle file\n",
    "with open('DCNDP_manu_results/healthAuthority_ID/2-hop DCNDP - agg constraints/overall_G_rollouts.pickle', 'rb') as handle:\n",
    "    provincial_data = pickle.load(handle)\n",
    "\n",
    "type(regional_data['0']['rollouts'])"
   ]
  },
  {
   "cell_type": "code",
   "execution_count": null,
   "metadata": {},
   "outputs": [],
   "source": [
    "regional_data['0']['rollouts']"
   ]
  },
  {
   "cell_type": "code",
   "execution_count": 83,
   "metadata": {},
   "outputs": [
    {
     "name": "stdout",
     "output_type": "stream",
     "text": [
      "dcndp\n"
     ]
    },
    {
     "data": {
      "text/plain": [
       "507554"
      ]
     },
     "execution_count": 83,
     "metadata": {},
     "output_type": "execute_result"
    }
   ],
   "source": [
    "print(provincial_data[2]['name'])\n",
    "len(provincial_data[0]['rollout'])\n"
   ]
  },
  {
   "cell_type": "code",
   "execution_count": 84,
   "metadata": {},
   "outputs": [
    {
     "name": "stdout",
     "output_type": "stream",
     "text": [
      "baseline 507554\n"
     ]
    },
    {
     "ename": "KeyError",
     "evalue": "'rollout'",
     "output_type": "error",
     "traceback": [
      "\u001b[0;31m---------------------------------------------------------------------------\u001b[0m",
      "\u001b[0;31mKeyError\u001b[0m                                  Traceback (most recent call last)",
      "\u001b[1;32m/Users/farazkhoshbakhtian/CNDP/optimal-design-of-vaccination-policies/export_summary_results.ipynb Cell 26\u001b[0m line \u001b[0;36m1\n\u001b[1;32m      <a href='vscode-notebook-cell:/Users/farazkhoshbakhtian/CNDP/optimal-design-of-vaccination-policies/export_summary_results.ipynb#X35sZmlsZQ%3D%3D?line=7'>8</a>\u001b[0m curr_dict \u001b[39m=\u001b[39m {\u001b[39m'\u001b[39m\u001b[39mprovince_wide\u001b[39m\u001b[39m'\u001b[39m: curr_overall_rollout}\n\u001b[1;32m     <a href='vscode-notebook-cell:/Users/farazkhoshbakhtian/CNDP/optimal-design-of-vaccination-policies/export_summary_results.ipynb#X35sZmlsZQ%3D%3D?line=11'>12</a>\u001b[0m \u001b[39mfor\u001b[39;00m key \u001b[39min\u001b[39;00m regional_data\u001b[39m.\u001b[39mkeys():\n\u001b[0;32m---> <a href='vscode-notebook-cell:/Users/farazkhoshbakhtian/CNDP/optimal-design-of-vaccination-policies/export_summary_results.ipynb#X35sZmlsZQ%3D%3D?line=12'>13</a>\u001b[0m     curr_dict[\u001b[39m'\u001b[39m\u001b[39mRHA_\u001b[39m\u001b[39m{}\u001b[39;00m\u001b[39m'\u001b[39m\u001b[39m.\u001b[39mformat(key)] \u001b[39m=\u001b[39m regional_data[key][\u001b[39m'\u001b[39;49m\u001b[39mrollout\u001b[39;49m\u001b[39m'\u001b[39;49m]\n\u001b[1;32m     <a href='vscode-notebook-cell:/Users/farazkhoshbakhtian/CNDP/optimal-design-of-vaccination-policies/export_summary_results.ipynb#X35sZmlsZQ%3D%3D?line=14'>15</a>\u001b[0m data_new[exp_name] \u001b[39m=\u001b[39m curr_dict\n",
      "\u001b[0;31mKeyError\u001b[0m: 'rollout'"
     ]
    }
   ],
   "source": [
    "data_new = {}\n",
    "\n",
    "for exp_data in provincial_data:\n",
    "    exp_name = exp_data['name']\n",
    "    curr_overall_rollout = exp_data['rollout']\n",
    "    print(exp_name, len(curr_overall_rollout)) \n",
    "\n",
    "    curr_dict = {'province_wide': curr_overall_rollout}\n",
    "\n",
    "\n",
    "\n",
    "    for key in regional_data.keys():\n",
    "        curr_dict['RHA_{}'.format(key)] = regional_data[key]['rollout']\n",
    "\n",
    "    data_new[exp_name] = curr_dict\n",
    "\n"
   ]
  },
  {
   "cell_type": "markdown",
   "metadata": {},
   "source": [
    "## Modified 1-hop"
   ]
  },
  {
   "cell_type": "code",
   "execution_count": 9,
   "metadata": {},
   "outputs": [],
   "source": [
    "from gurobi_solvers_onnline_supp import solve_modified_1hop_DCND, solve_modified_2hop_DCND\n",
    "import networkx as nx"
   ]
  },
  {
   "cell_type": "code",
   "execution_count": 10,
   "metadata": {},
   "outputs": [
    {
     "data": {
      "image/png": "[encoded data removed]",
      "text/plain": [
       "<Figure size 640x480 with 1 Axes>"
      ]
     },
     "metadata": {},
     "output_type": "display_data"
    }
   ],
   "source": [
    "G = nx.path_graph(5)\n",
    "G.add_edge(1,3)\n",
    "b = 1\n",
    "\n",
    "\n",
    "nx.draw(G, with_labels=True)"
   ]
  },
  {
   "cell_type": "code",
   "execution_count": 11,
   "metadata": {},
   "outputs": [
    {
     "name": "stdout",
     "output_type": "stream",
     "text": [
      "Solving updated DCNDP ...\n",
      "Set parameter Threads to value 16\n",
      "-=======\n",
      "All constraints added\n",
      "Start optimizing...\n",
      "Gurobi Optimizer version 10.0.1 build v10.0.1rc0 (mac64[arm])\n",
      "\n",
      "CPU model: Apple M2 Max\n",
      "Thread count: 12 physical cores, 12 logical processors, using up to 16 threads\n",
      "\n",
      "Warning: Thread count (16) is larger than processor count (12)\n",
      "         Reduce the value of the Threads parameter to improve performance\n",
      "\n",
      "\n",
      "Optimize a model with 36 rows, 20 columns and 90 nonzeros\n",
      "Model fingerprint: 0xdec5f4ca\n",
      "Variable types: 10 continuous, 10 integer (10 binary)\n",
      "Coefficient statistics:\n",
      "  Matrix range     [1e+00, 1e+00]\n",
      "  Objective range  [3e-03, 1e+00]\n",
      "  Bounds range     [1e+00, 1e+00]\n",
      "  RHS range        [1e+00, 1e+00]\n",
      "Found heuristic solution: objective 5.0000000\n",
      "Presolve removed 36 rows and 20 columns\n",
      "Presolve time: 0.00s\n",
      "Presolve: All rows and columns removed\n",
      "\n",
      "Explored 0 nodes (0 simplex iterations) in 0.00 seconds (0.00 work units)\n",
      "Thread count was 1 (of 12 available processors)\n",
      "\n",
      "Solution count 2: 2.15 5 \n",
      "\n",
      "Optimal solution found (tolerance 1.00e-04)\n",
      "Best objective 2.150000000000e+00, best bound 2.150000000000e+00, gap 0.0000%\n",
      "# of critical nodes:  1\n"
     ]
    }
   ],
   "source": [
    "m, critical_nodes = solve_modified_1hop_DCND(G, b)"
   ]
  },
  {
   "cell_type": "code",
   "execution_count": 12,
   "metadata": {},
   "outputs": [
    {
     "data": {
      "image/png": "[encoded data removed]",
      "text/plain": [
       "<Figure size 640x480 with 1 Axes>"
      ]
     },
     "metadata": {},
     "output_type": "display_data"
    }
   ],
   "source": [
    "G.remove_nodes_from(critical_nodes)\n",
    "\n",
    "nx.draw(G, with_labels=True)"
   ]
  },
  {
   "cell_type": "markdown",
   "metadata": {},
   "source": [
    "## Modified 2hop"
   ]
  },
  {
   "cell_type": "code",
   "execution_count": 13,
   "metadata": {},
   "outputs": [
    {
     "data": {
      "image/png": "[encoded data removed]",
      "text/plain": [
       "<Figure size 640x480 with 1 Axes>"
      ]
     },
     "metadata": {},
     "output_type": "display_data"
    }
   ],
   "source": [
    "G = nx.path_graph(5)\n",
    "G.add_edge(1,3)\n",
    "b = 1\n",
    "\n",
    "\n",
    "nx.draw(G, with_labels=True)"
   ]
  },
  {
   "cell_type": "code",
   "execution_count": 14,
   "metadata": {},
   "outputs": [
    {
     "name": "stdout",
     "output_type": "stream",
     "text": [
      "Solving 2hop DCND ...\n",
      "Set parameter Threads to value 10\n",
      "Set parameter Method to value 3\n",
      "All constraints added\n",
      "Start optimizing...\n",
      "Gurobi Optimizer version 10.0.1 build v10.0.1rc0 (mac64[arm])\n",
      "\n",
      "CPU model: Apple M2 Max\n",
      "Thread count: 12 physical cores, 12 logical processors, using up to 10 threads\n",
      "\n",
      "Optimize a model with 68 rows, 32 columns and 178 nonzeros\n",
      "Model fingerprint: 0x225f05f1\n",
      "Variable types: 27 continuous, 5 integer (5 binary)\n",
      "Coefficient statistics:\n",
      "  Matrix range     [1e+00, 1e+00]\n",
      "  Objective range  [6e-06, 1e+00]\n",
      "  Bounds range     [1e+00, 1e+00]\n",
      "  RHS range        [1e+00, 1e+00]\n",
      "Presolve removed 68 rows and 32 columns\n",
      "Presolve time: 0.00s\n",
      "Presolve: All rows and columns removed\n",
      "\n",
      "Explored 0 nodes (0 simplex iterations) in 0.00 seconds (0.00 work units)\n",
      "Thread count was 1 (of 12 available processors)\n",
      "\n",
      "Solution count 1: 3.1575 \n",
      "\n",
      "Optimal solution found (tolerance 1.00e-04)\n",
      "Best objective 3.157500000000e+00, best bound 3.157500000000e+00, gap 0.0000%\n",
      "# of critical nodes:  1\n",
      "# of remaining short pairs:  3\n"
     ]
    }
   ],
   "source": [
    "m, critical_nodes, _, _ = solve_modified_2hop_DCND(G, b)"
   ]
  },
  {
   "cell_type": "code",
   "execution_count": 15,
   "metadata": {},
   "outputs": [
    {
     "data": {
      "image/png": "[encoded data removed]",
      "text/plain": [
       "<Figure size 640x480 with 1 Axes>"
      ]
     },
     "metadata": {},
     "output_type": "display_data"
    }
   ],
   "source": [
    "G.remove_nodes_from(critical_nodes)\n",
    "\n",
    "nx.draw(G, with_labels=True)"
   ]
  },
  {
   "cell_type": "code",
   "execution_count": null,
   "metadata": {},
   "outputs": [],
   "source": []
  }
 ],
 "metadata": {
  "kernelspec": {
   "display_name": "dcndp",
   "language": "python",
   "name": "python3"
  },
  "language_info": {
   "codemirror_mode": {
    "name": "ipython",
    "version": 3
   },
   "file_extension": ".py",
   "mimetype": "text/x-python",
   "name": "python",
   "nbconvert_exporter": "python",
   "pygments_lexer": "ipython3",
   "version": "3.10.11"
  },
  "orig_nbformat": 4
 },
 "nbformat": 4,
 "nbformat_minor": 2
}
